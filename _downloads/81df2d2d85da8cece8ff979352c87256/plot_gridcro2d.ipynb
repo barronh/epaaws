{
  "cells": [
    {
      "cell_type": "markdown",
      "metadata": {},
      "source": [
        "\n# GRIDCRO2D Terrain Height Plot\n\nThis example shows how to create a plot of terrain heigh from one day of EPA MCIP.\n"
      ]
    },
    {
      "cell_type": "code",
      "execution_count": null,
      "metadata": {
        "collapsed": false
      },
      "outputs": [],
      "source": [
        "# !python -m pip install epaaws\nimport epaaws\n\nf = epaaws.mp2022.open_gridcro2d('2022-01-01')\nlevels = [-100, -10, 1, 100, 200, 400, 800, 1600, 3200]\nqm = f['HT'].plot(levels=levels, cmap='terrain')\nf.csp.cno.drawstates()\nqm.figure.savefig('terrain.png')"
      ]
    }
  ],
  "metadata": {
    "kernelspec": {
      "display_name": "Python 3",
      "language": "python",
      "name": "python3"
    },
    "language_info": {
      "codemirror_mode": {
        "name": "ipython",
        "version": 3
      },
      "file_extension": ".py",
      "mimetype": "text/x-python",
      "name": "python",
      "nbconvert_exporter": "python",
      "pygments_lexer": "ipython3",
      "version": "3.12.3"
    }
  },
  "nbformat": 4,
  "nbformat_minor": 0
}