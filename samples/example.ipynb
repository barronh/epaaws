{
 "cells": [
  {
   "cell_type": "markdown",
   "id": "ddc4ce98-2643-4c4f-a7c9-cd030ba2b4be",
   "metadata": {},
   "source": [
    "# epaaws example\n",
    "\n",
    "---\n",
    "    author: Barron H. Henderson\n",
    "    date: 2024-04-25\n",
    "    last-updated: 2024-04-25\n",
    "---\n",
    "\n",
    "This shows how to use epaaws to acquire a file, investigate it, and make a plot."
   ]
  },
  {
   "cell_type": "code",
   "execution_count": null,
   "id": "1ae4f13c-05f1-4788-ba79-215ec027a480",
   "metadata": {},
   "outputs": [],
   "source": [
    "!python -m pip install -qq epaaws pycno  # install libraries"
   ]
  },
  {
   "cell_type": "code",
   "execution_count": null,
   "id": "aa7d8be7-6ebc-4fa9-97a2-fbb86fbfa448",
   "metadata": {},
   "outputs": [],
   "source": [
    "# import modeling platform 2022\n",
    "from epaaws import mp2022"
   ]
  },
  {
   "cell_type": "code",
   "execution_count": null,
   "id": "78f02fd9-59cf-4741-80cd-ecf0e4dfdb0c",
   "metadata": {},
   "outputs": [],
   "source": [
    "# open a GRIDCRO2D file\n",
    "f = mp2022.open_gridcro2d('2022-01-01')\n",
    "f"
   ]
  },
  {
   "cell_type": "code",
   "execution_count": null,
   "id": "46b828a5-7c91-4aee-b3ce-bc17063b6247",
   "metadata": {},
   "outputs": [],
   "source": [
    "levels = [-100, -10, 1, 100, 200, 400, 800, 1600, 3200]\n",
    "qm = f['HT'].plot(levels=levels, cmap='terrain')\n",
    "f.csp.cno.drawstates()"
   ]
  },
  {
   "cell_type": "code",
   "execution_count": null,
   "id": "5479d0f1-2f9f-4f6c-a436-06300f4ff6cc",
   "metadata": {},
   "outputs": [],
   "source": [
    "print('\\n - '.join(['Other files currently accessible:'] + mp2022.__all__))"
   ]
  },
  {
   "cell_type": "code",
   "execution_count": null,
   "id": "52bdfbbd-cf08-43a0-9415-6705d6756e62",
   "metadata": {},
   "outputs": [],
   "source": [
    "lf = mp2022.open_lufrac_cro('2022-07-15')\n",
    "lf"
   ]
  },
  {
   "cell_type": "markdown",
   "id": "d7707b13-f10b-4105-bf57-aa1beab4bc37",
   "metadata": {},
   "source": [
    "# LUFRAC has types in LAY\n",
    "\n",
    "Numeric indices are stored in VGLVLS and described in \n",
    "https://github.com/wrf-model/WRF/blob/master/run/LANDUSE.TBL#L503-L545"
   ]
  },
  {
   "cell_type": "code",
   "execution_count": null,
   "id": "20a7d46b-429f-44ff-a044-f70bf1702ff4",
   "metadata": {},
   "outputs": [],
   "source": [
    "lf.coords['LAY'] = lf.VGLVLS[:-1].astype('<d')\n",
    "Z = lf['LUFRAC'].sel(LAY=[1, 2, 3, 4, 5, 28, 29, 30]).mean('LAY')\n",
    "Z.attrs.update(long_name='All Forests', units='1')\n",
    "\n",
    "Z.plot()\n",
    "lf.csp.cno.drawstates(resnum=1)"
   ]
  },
  {
   "cell_type": "code",
   "execution_count": null,
   "id": "2815af32-8527-4850-84f1-7ab8bd4e84af",
   "metadata": {},
   "outputs": [],
   "source": []
  }
 ],
 "metadata": {
  "kernelspec": {
   "display_name": "Python 3.6",
   "language": "python",
   "name": "python3"
  },
  "language_info": {
   "codemirror_mode": {
    "name": "ipython",
    "version": 3
   },
   "file_extension": ".py",
   "mimetype": "text/x-python",
   "name": "python",
   "nbconvert_exporter": "python",
   "pygments_lexer": "ipython3",
   "version": "3.6.8"
  }
 },
 "nbformat": 4,
 "nbformat_minor": 5
}
