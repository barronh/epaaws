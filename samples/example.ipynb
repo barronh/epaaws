{
 "cells": [
  {
   "cell_type": "markdown",
   "id": "ddc4ce98-2643-4c4f-a7c9-cd030ba2b4be",
   "metadata": {},
   "source": [
    "# epaaws example\n",
    "\n",
    "---\n",
    "    author: Barron H. Henderson\n",
    "    date: 2024-04-25\n",
    "    last-updated: 2024-04-25\n",
    "---\n",
    "\n",
    "This shows how to use epaaws to acquire a file, investigate it, and make a plot."
   ]
  },
  {
   "cell_type": "code",
   "execution_count": null,
   "id": "1ae4f13c-05f1-4788-ba79-215ec027a480",
   "metadata": {},
   "outputs": [],
   "source": [
    "!python -m pip install -qq epaaws pycno  # install libraries"
   ]
  },
  {
   "cell_type": "code",
   "execution_count": null,
   "id": "aa7d8be7-6ebc-4fa9-97a2-fbb86fbfa448",
   "metadata": {},
   "outputs": [],
   "source": [
    "# import modeling platform 2022\n",
    "from epaaws import mp2022\n",
    "print('\\n - '.join(['Currently accessible files:'] + mp2022.__all__))"
   ]
  },
  {
   "cell_type": "code",
   "execution_count": null,
   "id": "78f02fd9-59cf-4741-80cd-ecf0e4dfdb0c",
   "metadata": {},
   "outputs": [],
   "source": [
    "# open a GRIDCRO2D file\n",
    "gf = mp2022.open_gridcro2d('2022-01-01')\n",
    "gf"
   ]
  },
  {
   "cell_type": "code",
   "execution_count": null,
   "id": "46b828a5-7c91-4aee-b3ce-bc17063b6247",
   "metadata": {},
   "outputs": [],
   "source": [
    "levels = [-100, -10, 1, 100, 200, 400, 800, 1600, 3200]\n",
    "qm = gf['HT'].plot(levels=levels, cmap='terrain')\n",
    "gf.csp.cno.drawstates()"
   ]
  },
  {
   "cell_type": "markdown",
   "id": "d7707b13-f10b-4105-bf57-aa1beab4bc37",
   "metadata": {},
   "source": [
    "# LUFRAC has types in LAY\n",
    "\n",
    "Numeric indices are stored in VGLVLS and described in \n",
    "https://github.com/wrf-model/WRF/blob/master/run/LANDUSE.TBL#L503-L545"
   ]
  },
  {
   "cell_type": "code",
   "execution_count": null,
   "id": "52bdfbbd-cf08-43a0-9415-6705d6756e62",
   "metadata": {},
   "outputs": [],
   "source": [
    "lf = mp2022.open_lufrac_cro('2022-07-15')\n",
    "lf"
   ]
  },
  {
   "cell_type": "code",
   "execution_count": null,
   "id": "20a7d46b-429f-44ff-a044-f70bf1702ff4",
   "metadata": {},
   "outputs": [],
   "source": [
    "lf.coords['LAY'] = lf.VGLVLS[:-1].astype('<d')\n",
    "Z = lf['LUFRAC'].sel(LAY=[1, 2, 3, 4, 5, 28, 29, 30]).mean('LAY')\n",
    "Z.attrs.update(long_name='All Forests', units='1')\n",
    "\n",
    "Z.plot()\n",
    "lf.csp.cno.drawstates(resnum=1)"
   ]
  },
  {
   "cell_type": "markdown",
   "id": "88bc19dc-42b5-445b-9cb6-0fe1a10f825a",
   "metadata": {},
   "source": [
    "# METCRO2D has lots of variables\n",
    "\n",
    "* example plot includes surface pressure (PRSFC) and winds"
   ]
  },
  {
   "cell_type": "code",
   "execution_count": null,
   "id": "53f5384a-f742-4c3f-8778-dffb71d7cc5f",
   "metadata": {},
   "outputs": [],
   "source": [
    "# open a METCRO2D file\n",
    "mf = mp2022.open_metcro2d('2022-01-01')\n",
    "mf"
   ]
  },
  {
   "cell_type": "code",
   "execution_count": null,
   "id": "d2ceedb1-6715-4681-9754-cac9ccf49767",
   "metadata": {},
   "outputs": [],
   "source": [
    "import numpy as np\n",
    "\n",
    "wdir = np.radians(mf['WDIR10'])\n",
    "# in grid length units\n",
    "mf['U10'] = -mf['WSPD10'] * np.sin(wdir) / mf.XCELL\n",
    "mf['U10'].attrs.update(long_name='U10', units=f'{mf.XCELL:.1f}')\n",
    "mf['V10'] = -mf['WSPD10'] * np.cos(wdir) / mf.YCELL\n",
    "mf['V10'].attrs.update(long_name='V10', units=f'{mf.XCELL:.1f}')\n",
    "\n",
    "mdf = mf[['PRSFC', 'U10', 'V10']].mean(('TSTEP', 'LAY'), keep_attrs=True)\n",
    "\n",
    "P = mdf['PRSFC'] / 100\n",
    "P.attrs['units'] = 'hPa'\n",
    "qm = P.plot()\n",
    "mf.csp.cno.drawstates(color='grey')\n",
    "mdf.plot.streamplot(x='COL', y='ROW', u='U10', v='V10', ax=qm.axes, color='k')\n"
   ]
  },
  {
   "cell_type": "code",
   "execution_count": null,
   "id": "bdb03aa9-5899-4e82-9ae9-3f2becc74090",
   "metadata": {},
   "outputs": [],
   "source": []
  }
 ],
 "metadata": {
  "kernelspec": {
   "display_name": "Python 3.6",
   "language": "python",
   "name": "python3"
  },
  "language_info": {
   "codemirror_mode": {
    "name": "ipython",
    "version": 3
   },
   "file_extension": ".py",
   "mimetype": "text/x-python",
   "name": "python",
   "nbconvert_exporter": "python",
   "pygments_lexer": "ipython3",
   "version": "3.6.8"
  }
 },
 "nbformat": 4,
 "nbformat_minor": 5
}
